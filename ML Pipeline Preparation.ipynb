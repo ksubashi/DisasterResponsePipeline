{
 "cells": [
  {
   "cell_type": "markdown",
   "metadata": {},
   "source": [
    "# ML Pipeline Preparation\n",
    "Follow the instructions below to help you create your ML pipeline.\n",
    "### 1. Import libraries and load data from database.\n",
    "- Import Python libraries\n",
    "- Load dataset from database with [`read_sql_table`](https://pandas.pydata.org/pandas-docs/stable/generated/pandas.read_sql_table.html)\n",
    "- Define feature and target variables X and Y"
   ]
  },
  {
   "cell_type": "code",
   "execution_count": 1,
   "metadata": {},
   "outputs": [],
   "source": [
    "# import libraries\n",
    "import pandas as pd\n",
    "from sqlalchemy import create_engine\n",
    "import numpy as np\n",
    "from nltk.tokenize import word_tokenize\n",
    "from nltk.corpus import stopwords\n",
    "import re\n",
    "from nltk.stem import WordNetLemmatizer\n",
    "from sklearn.multioutput import MultiOutputClassifier\n",
    "from sklearn.pipeline import Pipeline,FeatureUnion\n",
    "from sklearn.feature_extraction.text import CountVectorizer, TfidfTransformer\n",
    "from sklearn.ensemble import RandomForestClassifier\n",
    "from sklearn.model_selection import train_test_split,GridSearchCV,RandomizedSearchCV\n",
    "from sklearn.metrics import classification_report\n",
    "from sklearn.base import BaseEstimator, TransformerMixin\n",
    "from sklearn.neighbors import KNeighborsClassifier\n",
    "import joblib"
   ]
  },
  {
   "cell_type": "code",
   "execution_count": 2,
   "metadata": {},
   "outputs": [
    {
     "name": "stdout",
     "output_type": "stream",
     "text": [
      "[nltk_data] Downloading package punkt to /root/nltk_data...\n",
      "[nltk_data]   Unzipping tokenizers/punkt.zip.\n",
      "[nltk_data] Downloading package wordnet to /root/nltk_data...\n",
      "[nltk_data] Downloading package averaged_perceptron_tagger to\n",
      "[nltk_data]     /root/nltk_data...\n",
      "[nltk_data]   Unzipping taggers/averaged_perceptron_tagger.zip.\n",
      "[nltk_data] Downloading package stopwords to /root/nltk_data...\n",
      "[nltk_data]   Unzipping corpora/stopwords.zip.\n"
     ]
    },
    {
     "data": {
      "text/plain": [
       "True"
      ]
     },
     "execution_count": 2,
     "metadata": {},
     "output_type": "execute_result"
    }
   ],
   "source": [
    "import nltk\n",
    "nltk.download(['punkt', 'wordnet', 'averaged_perceptron_tagger','stopwords'])"
   ]
  },
  {
   "cell_type": "code",
   "execution_count": 3,
   "metadata": {},
   "outputs": [],
   "source": [
    "# load data from database\n",
    "engine = create_engine('sqlite:///Emergency.db')\n",
    "df = pd.read_sql_table('Messages', 'sqlite:///Emergency.db')\n",
    "df.drop(['categories'],axis=1,inplace=True)\n",
    "df['related']=df['related'].replace(2,1)\n",
    "X = df.message\n",
    "Y = df.iloc[:,4:]\n",
    "target_names=Y.columns.tolist()"
   ]
  },
  {
   "cell_type": "code",
   "execution_count": 10,
   "metadata": {},
   "outputs": [
    {
     "data": {
      "text/plain": [
       "array([1, 0])"
      ]
     },
     "execution_count": 10,
     "metadata": {},
     "output_type": "execute_result"
    }
   ],
   "source": [
    "Y.related.unique()"
   ]
  },
  {
   "cell_type": "markdown",
   "metadata": {},
   "source": [
    "### 2. Write a tokenization function to process your text data"
   ]
  },
  {
   "cell_type": "code",
   "execution_count": 5,
   "metadata": {},
   "outputs": [],
   "source": [
    "def tokenize(text):\n",
    "    text=text.lower()\n",
    "    text=re.sub(r\"[^a-zA-Z0-9]\", \" \",text)\n",
    "    words=word_tokenize(text)\n",
    "    words=[w for w in words if w not in stopwords.words(\"english\")]\n",
    "    \n",
    "    lemmatizer=WordNetLemmatizer()\n",
    "    clean_tokens=[]\n",
    "    \n",
    "    for t in words:\n",
    "        tokens=lemmatizer.lemmatize(t).strip()\n",
    "        clean_tokens.append(tokens)\n",
    "    return clean_tokens"
   ]
  },
  {
   "cell_type": "markdown",
   "metadata": {},
   "source": [
    "### 3. Build a machine learning pipeline\n",
    "This machine pipeline should take in the `message` column as input and output classification results on the other 36 categories in the dataset. You may find the [MultiOutputClassifier](http://scikit-learn.org/stable/modules/generated/sklearn.multioutput.MultiOutputClassifier.html) helpful for predicting multiple target variables."
   ]
  },
  {
   "cell_type": "code",
   "execution_count": 6,
   "metadata": {},
   "outputs": [],
   "source": [
    "pipeline = Pipeline([\n",
    "    ('count_vect',CountVectorizer(tokenizer=tokenize)),\n",
    "    ('tfidf',TfidfTransformer()),\n",
    "    ('clf',MultiOutputClassifier(RandomForestClassifier()))\n",
    "])"
   ]
  },
  {
   "cell_type": "markdown",
   "metadata": {},
   "source": [
    "### 4. Train pipeline\n",
    "- Split data into train and test sets\n",
    "- Train pipeline"
   ]
  },
  {
   "cell_type": "code",
   "execution_count": 7,
   "metadata": {},
   "outputs": [
    {
     "data": {
      "text/plain": [
       "Pipeline(memory=None,\n",
       "     steps=[('count_vect', CountVectorizer(analyzer='word', binary=False, decode_error='strict',\n",
       "        dtype=<class 'numpy.int64'>, encoding='utf-8', input='content',\n",
       "        lowercase=True, max_df=1.0, max_features=None, min_df=1,\n",
       "        ngram_range=(1, 1), preprocessor=None, stop_words=None,\n",
       "       ...oob_score=False, random_state=None, verbose=0,\n",
       "            warm_start=False),\n",
       "           n_jobs=1))])"
      ]
     },
     "execution_count": 7,
     "metadata": {},
     "output_type": "execute_result"
    }
   ],
   "source": [
    "X_train,X_test,y_train,y_test=train_test_split(X,Y)\n",
    "pipeline.fit(X_train,y_train)"
   ]
  },
  {
   "cell_type": "markdown",
   "metadata": {},
   "source": [
    "### 5. Test your model\n",
    "Report the f1 score, precision and recall for each output category of the dataset. You can do this by iterating through the columns and calling sklearn's `classification_report` on each."
   ]
  },
  {
   "cell_type": "code",
   "execution_count": 9,
   "metadata": {},
   "outputs": [],
   "source": [
    "y_pred=pipeline.predict(X_test)"
   ]
  },
  {
   "cell_type": "code",
   "execution_count": 10,
   "metadata": {},
   "outputs": [
    {
     "data": {
      "text/plain": [
       "((6554, 36),\n",
       " (6554, 36),\n",
       " array(['related', 'request', 'offer', 'aid_related', 'medical_help',\n",
       "        'medical_products', 'search_and_rescue', 'security', 'military',\n",
       "        'child_alone', 'water', 'food', 'shelter', 'clothing', 'money',\n",
       "        'missing_people', 'refugees', 'death', 'other_aid',\n",
       "        'infrastructure_related', 'transport', 'buildings', 'electricity',\n",
       "        'tools', 'hospitals', 'shops', 'aid_centers',\n",
       "        'other_infrastructure', 'weather_related', 'floods', 'storm',\n",
       "        'fire', 'earthquake', 'cold', 'other_weather', 'direct_report'], dtype=object))"
      ]
     },
     "execution_count": 10,
     "metadata": {},
     "output_type": "execute_result"
    }
   ],
   "source": [
    "y_test.shape,y_pred.shape,Y.columns.values"
   ]
  },
  {
   "cell_type": "code",
   "execution_count": 14,
   "metadata": {},
   "outputs": [
    {
     "name": "stdout",
     "output_type": "stream",
     "text": [
      "related\n",
      "__________________________________________________\n",
      "             precision    recall  f1-score   support\n",
      "\n",
      "          0       0.62      0.45      0.52      1542\n",
      "          1       0.84      0.92      0.88      5012\n",
      "\n",
      "avg / total       0.79      0.81      0.80      6554\n",
      "\n",
      "request\n",
      "__________________________________________________\n",
      "             precision    recall  f1-score   support\n",
      "\n",
      "          0       0.90      0.98      0.94      5453\n",
      "          1       0.81      0.44      0.57      1101\n",
      "\n",
      "avg / total       0.88      0.89      0.87      6554\n",
      "\n",
      "offer\n",
      "__________________________________________________\n",
      "             precision    recall  f1-score   support\n",
      "\n",
      "          0       0.99      1.00      1.00      6512\n",
      "          1       0.00      0.00      0.00        42\n",
      "\n",
      "avg / total       0.99      0.99      0.99      6554\n",
      "\n",
      "aid_related\n",
      "__________________________________________________\n",
      "             precision    recall  f1-score   support\n",
      "\n",
      "          0       0.75      0.85      0.80      3840\n",
      "          1       0.74      0.60      0.67      2714\n",
      "\n",
      "avg / total       0.75      0.75      0.74      6554\n",
      "\n",
      "medical_help\n",
      "__________________________________________________\n",
      "             precision    recall  f1-score   support\n",
      "\n",
      "          0       0.93      1.00      0.96      6051\n",
      "          1       0.55      0.07      0.12       503\n",
      "\n",
      "avg / total       0.90      0.92      0.90      6554\n",
      "\n",
      "medical_products\n",
      "__________________________________________________\n",
      "             precision    recall  f1-score   support\n",
      "\n",
      "          0       0.95      1.00      0.97      6199\n",
      "          1       0.71      0.15      0.24       355\n",
      "\n",
      "avg / total       0.94      0.95      0.93      6554\n",
      "\n",
      "search_and_rescue\n",
      "__________________________________________________\n",
      "             precision    recall  f1-score   support\n",
      "\n",
      "          0       0.98      1.00      0.99      6379\n",
      "          1       0.68      0.09      0.15       175\n",
      "\n",
      "avg / total       0.97      0.97      0.96      6554\n",
      "\n",
      "security\n",
      "__________________________________________________\n",
      "             precision    recall  f1-score   support\n",
      "\n",
      "          0       0.98      1.00      0.99      6432\n",
      "          1       0.00      0.00      0.00       122\n",
      "\n",
      "avg / total       0.96      0.98      0.97      6554\n",
      "\n",
      "military\n",
      "__________________________________________________\n",
      "             precision    recall  f1-score   support\n",
      "\n",
      "          0       0.97      1.00      0.98      6351\n",
      "          1       0.48      0.06      0.11       203\n",
      "\n",
      "avg / total       0.96      0.97      0.96      6554\n",
      "\n",
      "child_alone\n",
      "__________________________________________________\n",
      "             precision    recall  f1-score   support\n",
      "\n",
      "          0       1.00      1.00      1.00      6554\n",
      "\n",
      "avg / total       1.00      1.00      1.00      6554\n",
      "\n",
      "water\n",
      "__________________________________________________\n",
      "             precision    recall  f1-score   support\n",
      "\n",
      "          0       0.95      1.00      0.97      6124\n",
      "          1       0.81      0.23      0.36       430\n",
      "\n",
      "avg / total       0.94      0.95      0.93      6554\n",
      "\n",
      "food\n",
      "__________________________________________________\n",
      "             precision    recall  f1-score   support\n",
      "\n",
      "          0       0.94      0.98      0.96      5808\n",
      "          1       0.82      0.53      0.64       746\n",
      "\n",
      "avg / total       0.93      0.93      0.93      6554\n",
      "\n",
      "shelter\n",
      "__________________________________________________\n",
      "             precision    recall  f1-score   support\n",
      "\n",
      "          0       0.94      0.99      0.96      5992\n",
      "          1       0.78      0.28      0.41       562\n",
      "\n",
      "avg / total       0.92      0.93      0.92      6554\n",
      "\n",
      "clothing\n",
      "__________________________________________________\n",
      "             precision    recall  f1-score   support\n",
      "\n",
      "          0       0.98      1.00      0.99      6441\n",
      "          1       0.87      0.12      0.20       113\n",
      "\n",
      "avg / total       0.98      0.98      0.98      6554\n",
      "\n",
      "money\n",
      "__________________________________________________\n",
      "             precision    recall  f1-score   support\n",
      "\n",
      "          0       0.98      1.00      0.99      6390\n",
      "          1       0.75      0.02      0.04       164\n",
      "\n",
      "avg / total       0.97      0.98      0.96      6554\n",
      "\n",
      "missing_people\n",
      "__________________________________________________\n",
      "             precision    recall  f1-score   support\n",
      "\n",
      "          0       0.99      1.00      0.99      6484\n",
      "          1       0.60      0.04      0.08        70\n",
      "\n",
      "avg / total       0.99      0.99      0.98      6554\n",
      "\n",
      "refugees\n",
      "__________________________________________________\n",
      "             precision    recall  f1-score   support\n",
      "\n",
      "          0       0.97      1.00      0.98      6337\n",
      "          1       0.20      0.00      0.01       217\n",
      "\n",
      "avg / total       0.94      0.97      0.95      6554\n",
      "\n",
      "death\n",
      "__________________________________________________\n",
      "             precision    recall  f1-score   support\n",
      "\n",
      "          0       0.96      1.00      0.98      6267\n",
      "          1       0.86      0.17      0.28       287\n",
      "\n",
      "avg / total       0.96      0.96      0.95      6554\n",
      "\n",
      "other_aid\n",
      "__________________________________________________\n",
      "             precision    recall  f1-score   support\n",
      "\n",
      "          0       0.87      0.99      0.93      5680\n",
      "          1       0.58      0.05      0.09       874\n",
      "\n",
      "avg / total       0.83      0.87      0.82      6554\n",
      "\n",
      "infrastructure_related\n",
      "__________________________________________________\n",
      "             precision    recall  f1-score   support\n",
      "\n",
      "          0       0.93      1.00      0.96      6109\n",
      "          1       0.08      0.00      0.00       445\n",
      "\n",
      "avg / total       0.87      0.93      0.90      6554\n",
      "\n",
      "transport\n",
      "__________________________________________________\n",
      "             precision    recall  f1-score   support\n",
      "\n",
      "          0       0.96      1.00      0.98      6259\n",
      "          1       0.62      0.07      0.12       295\n",
      "\n",
      "avg / total       0.94      0.96      0.94      6554\n",
      "\n",
      "buildings\n",
      "__________________________________________________\n",
      "             precision    recall  f1-score   support\n",
      "\n",
      "          0       0.95      1.00      0.97      6211\n",
      "          1       0.74      0.10      0.18       343\n",
      "\n",
      "avg / total       0.94      0.95      0.93      6554\n",
      "\n",
      "electricity\n",
      "__________________________________________________\n",
      "             precision    recall  f1-score   support\n",
      "\n",
      "          0       0.98      1.00      0.99      6420\n",
      "          1       0.78      0.05      0.10       134\n",
      "\n",
      "avg / total       0.98      0.98      0.97      6554\n",
      "\n",
      "tools\n",
      "__________________________________________________\n",
      "             precision    recall  f1-score   support\n",
      "\n",
      "          0       0.99      1.00      1.00      6516\n",
      "          1       0.00      0.00      0.00        38\n",
      "\n",
      "avg / total       0.99      0.99      0.99      6554\n",
      "\n",
      "hospitals\n",
      "__________________________________________________\n",
      "             precision    recall  f1-score   support\n",
      "\n",
      "          0       0.99      1.00      0.99      6481\n",
      "          1       0.00      0.00      0.00        73\n",
      "\n",
      "avg / total       0.98      0.99      0.98      6554\n",
      "\n",
      "shops\n",
      "__________________________________________________\n",
      "             precision    recall  f1-score   support\n",
      "\n",
      "          0       1.00      1.00      1.00      6525\n",
      "          1       0.00      0.00      0.00        29\n",
      "\n",
      "avg / total       0.99      1.00      0.99      6554\n",
      "\n",
      "aid_centers\n",
      "__________________________________________________\n",
      "             precision    recall  f1-score   support\n",
      "\n",
      "          0       0.99      1.00      0.99      6466\n",
      "          1       0.00      0.00      0.00        88\n",
      "\n",
      "avg / total       0.97      0.99      0.98      6554\n",
      "\n",
      "other_infrastructure\n",
      "__________________________________________________\n",
      "             precision    recall  f1-score   support\n",
      "\n",
      "          0       0.95      1.00      0.98      6250\n",
      "          1       0.00      0.00      0.00       304\n",
      "\n",
      "avg / total       0.91      0.95      0.93      6554\n",
      "\n",
      "weather_related\n",
      "__________________________________________________\n",
      "             precision    recall  f1-score   support\n",
      "\n",
      "          0       0.87      0.95      0.91      4705\n",
      "          1       0.84      0.63      0.72      1849\n",
      "\n",
      "avg / total       0.86      0.86      0.86      6554\n",
      "\n",
      "floods\n",
      "__________________________________________________\n",
      "             precision    recall  f1-score   support\n",
      "\n",
      "          0       0.94      1.00      0.97      6002\n",
      "          1       0.87      0.36      0.51       552\n",
      "\n",
      "avg / total       0.94      0.94      0.93      6554\n",
      "\n",
      "storm\n",
      "__________________________________________________\n",
      "             precision    recall  f1-score   support\n",
      "\n",
      "          0       0.94      0.99      0.96      5977\n",
      "          1       0.74      0.37      0.49       577\n",
      "\n",
      "avg / total       0.92      0.93      0.92      6554\n",
      "\n",
      "fire\n",
      "__________________________________________________\n",
      "             precision    recall  f1-score   support\n",
      "\n",
      "          0       0.99      1.00      0.99      6475\n",
      "          1       1.00      0.01      0.02        79\n",
      "\n",
      "avg / total       0.99      0.99      0.98      6554\n",
      "\n",
      "earthquake\n",
      "__________________________________________________\n",
      "             precision    recall  f1-score   support\n",
      "\n",
      "          0       0.97      0.99      0.98      5920\n",
      "          1       0.86      0.71      0.78       634\n",
      "\n",
      "avg / total       0.96      0.96      0.96      6554\n",
      "\n",
      "cold\n",
      "__________________________________________________\n",
      "             precision    recall  f1-score   support\n",
      "\n",
      "          0       0.98      1.00      0.99      6421\n",
      "          1       0.65      0.13      0.21       133\n",
      "\n",
      "avg / total       0.98      0.98      0.97      6554\n",
      "\n",
      "other_weather\n",
      "__________________________________________________\n",
      "             precision    recall  f1-score   support\n",
      "\n",
      "          0       0.95      1.00      0.97      6203\n",
      "          1       0.57      0.07      0.13       351\n",
      "\n",
      "avg / total       0.93      0.95      0.93      6554\n",
      "\n",
      "direct_report\n",
      "__________________________________________________\n",
      "             precision    recall  f1-score   support\n",
      "\n",
      "          0       0.86      0.97      0.91      5315\n",
      "          1       0.74      0.33      0.45      1239\n",
      "\n",
      "avg / total       0.84      0.85      0.83      6554\n",
      "\n"
     ]
    },
    {
     "name": "stderr",
     "output_type": "stream",
     "text": [
      "/opt/conda/lib/python3.6/site-packages/sklearn/metrics/classification.py:1135: UndefinedMetricWarning: Precision and F-score are ill-defined and being set to 0.0 in labels with no predicted samples.\n",
      "  'precision', 'predicted', average, warn_for)\n"
     ]
    }
   ],
   "source": [
    "indx=-1\n",
    "for column in target_names:\n",
    "    indx+=1\n",
    "    print(column)\n",
    "    print(\"_\"*50)\n",
    "    print(classification_report(y_test[column],y_pred[:,indx]))"
   ]
  },
  {
   "cell_type": "markdown",
   "metadata": {},
   "source": [
    "### 6. Improve your model\n",
    "Use grid search to find better parameters. "
   ]
  },
  {
   "cell_type": "code",
   "execution_count": 11,
   "metadata": {},
   "outputs": [],
   "source": [
    "parameters = {\n",
    "    'clf__estimator__n_estimators':[5,10],\n",
    "    'clf__estimator__max_depth':[None,10]\n",
    "    #'clf__estimator__min_samples_split':[2,5,10],\n",
    "    }\n",
    "\n",
    "cv = GridSearchCV(pipeline,param_grid=parameters,verbose=3)"
   ]
  },
  {
   "cell_type": "markdown",
   "metadata": {},
   "source": [
    "### 7. Test your model\n",
    "Show the accuracy, precision, and recall of the tuned model.  \n",
    "\n",
    "Since this project focuses on code quality, process, and  pipelines, there is no minimum performance metric needed to pass. However, make sure to fine tune your models for accuracy, precision and recall to make your project stand out - especially for your portfolio!"
   ]
  },
  {
   "cell_type": "code",
   "execution_count": 12,
   "metadata": {
    "scrolled": true
   },
   "outputs": [
    {
     "name": "stdout",
     "output_type": "stream",
     "text": [
      "Fitting 3 folds for each of 4 candidates, totalling 12 fits\n",
      "[CV] clf__estimator__max_depth=None, clf__estimator__n_estimators=5 ..\n",
      "[CV]  clf__estimator__max_depth=None, clf__estimator__n_estimators=5, score=0.20109856576136712, total= 1.5min\n",
      "[CV] clf__estimator__max_depth=None, clf__estimator__n_estimators=5 ..\n"
     ]
    },
    {
     "name": "stderr",
     "output_type": "stream",
     "text": [
      "[Parallel(n_jobs=1)]: Done   1 out of   1 | elapsed:  2.4min remaining:    0.0s\n"
     ]
    },
    {
     "name": "stdout",
     "output_type": "stream",
     "text": [
      "[CV]  clf__estimator__max_depth=None, clf__estimator__n_estimators=5, score=0.198504729935917, total= 1.5min\n",
      "[CV] clf__estimator__max_depth=None, clf__estimator__n_estimators=5 ..\n"
     ]
    },
    {
     "name": "stderr",
     "output_type": "stream",
     "text": [
      "[Parallel(n_jobs=1)]: Done   2 out of   2 | elapsed:  4.8min remaining:    0.0s\n"
     ]
    },
    {
     "name": "stdout",
     "output_type": "stream",
     "text": [
      "[CV]  clf__estimator__max_depth=None, clf__estimator__n_estimators=5, score=0.20643881599023498, total= 1.5min\n",
      "[CV] clf__estimator__max_depth=None, clf__estimator__n_estimators=10 .\n",
      "[CV]  clf__estimator__max_depth=None, clf__estimator__n_estimators=10, score=0.24214220323466584, total= 1.8min\n",
      "[CV] clf__estimator__max_depth=None, clf__estimator__n_estimators=10 .\n",
      "[CV]  clf__estimator__max_depth=None, clf__estimator__n_estimators=10, score=0.23588648153799208, total= 1.8min\n",
      "[CV] clf__estimator__max_depth=None, clf__estimator__n_estimators=10 .\n",
      "[CV]  clf__estimator__max_depth=None, clf__estimator__n_estimators=10, score=0.23832773878547453, total= 1.8min\n",
      "[CV] clf__estimator__max_depth=10, clf__estimator__n_estimators=5 ....\n",
      "[CV]  clf__estimator__max_depth=10, clf__estimator__n_estimators=5, score=0.18782422947818125, total= 1.3min\n",
      "[CV] clf__estimator__max_depth=10, clf__estimator__n_estimators=5 ....\n",
      "[CV]  clf__estimator__max_depth=10, clf__estimator__n_estimators=5, score=0.19438510833079037, total= 1.3min\n",
      "[CV] clf__estimator__max_depth=10, clf__estimator__n_estimators=5 ....\n",
      "[CV]  clf__estimator__max_depth=10, clf__estimator__n_estimators=5, score=0.18950259383582546, total= 1.3min\n",
      "[CV] clf__estimator__max_depth=10, clf__estimator__n_estimators=10 ...\n",
      "[CV]  clf__estimator__max_depth=10, clf__estimator__n_estimators=10, score=0.19697894415624045, total= 1.3min\n",
      "[CV] clf__estimator__max_depth=10, clf__estimator__n_estimators=10 ...\n",
      "[CV]  clf__estimator__max_depth=10, clf__estimator__n_estimators=10, score=0.1998779371376259, total= 1.3min\n",
      "[CV] clf__estimator__max_depth=10, clf__estimator__n_estimators=10 ...\n",
      "[CV]  clf__estimator__max_depth=10, clf__estimator__n_estimators=10, score=0.1942325297528227, total= 1.3min\n"
     ]
    },
    {
     "name": "stderr",
     "output_type": "stream",
     "text": [
      "[Parallel(n_jobs=1)]: Done  12 out of  12 | elapsed: 28.3min finished\n"
     ]
    },
    {
     "name": "stdout",
     "output_type": "stream",
     "text": [
      "                        precision    recall  f1-score   support\n",
      "\n",
      "               related       0.85      0.93      0.89      5050\n",
      "               request       0.83      0.45      0.58      1128\n",
      "                 offer       0.00      0.00      0.00        29\n",
      "           aid_related       0.74      0.61      0.67      2702\n",
      "          medical_help       0.52      0.09      0.15       513\n",
      "      medical_products       0.72      0.13      0.22       319\n",
      "     search_and_rescue       0.90      0.05      0.10       179\n",
      "              security       0.00      0.00      0.00       117\n",
      "              military       0.61      0.10      0.17       207\n",
      "           child_alone       0.00      0.00      0.00         0\n",
      "                 water       0.89      0.34      0.49       418\n",
      "                  food       0.85      0.53      0.65       733\n",
      "               shelter       0.84      0.32      0.46       602\n",
      "              clothing       0.70      0.16      0.25        90\n",
      "                 money       0.83      0.03      0.06       148\n",
      "        missing_people       0.50      0.02      0.03        65\n",
      "              refugees       0.67      0.03      0.06       249\n",
      "                 death       0.76      0.09      0.16       289\n",
      "             other_aid       0.57      0.05      0.10       880\n",
      "infrastructure_related       0.23      0.01      0.01       441\n",
      "             transport       0.64      0.10      0.17       302\n",
      "             buildings       0.72      0.14      0.24       311\n",
      "           electricity       0.73      0.06      0.11       137\n",
      "                 tools       0.00      0.00      0.00        35\n",
      "             hospitals       0.00      0.00      0.00        67\n",
      "                 shops       0.00      0.00      0.00        31\n",
      "           aid_centers       0.00      0.00      0.00        82\n",
      "  other_infrastructure       0.14      0.00      0.01       307\n",
      "       weather_related       0.84      0.62      0.71      1829\n",
      "                floods       0.89      0.34      0.49       533\n",
      "                 storm       0.76      0.41      0.53       630\n",
      "                  fire       0.67      0.02      0.05        82\n",
      "            earthquake       0.91      0.71      0.80       619\n",
      "                  cold       0.78      0.10      0.17       146\n",
      "         other_weather       0.50      0.04      0.07       329\n",
      "         direct_report       0.76      0.32      0.45      1252\n",
      "\n",
      "           avg / total       0.75      0.49      0.55     20851\n",
      "\n",
      "Best Params: {'clf__estimator__max_depth': None, 'clf__estimator__n_estimators': 10}\n"
     ]
    },
    {
     "name": "stderr",
     "output_type": "stream",
     "text": [
      "/opt/conda/lib/python3.6/site-packages/sklearn/metrics/classification.py:1135: UndefinedMetricWarning: Precision and F-score are ill-defined and being set to 0.0 in labels with no predicted samples.\n",
      "  'precision', 'predicted', average, warn_for)\n",
      "/opt/conda/lib/python3.6/site-packages/sklearn/metrics/classification.py:1137: UndefinedMetricWarning: Recall and F-score are ill-defined and being set to 0.0 in labels with no true samples.\n",
      "  'recall', 'true', average, warn_for)\n"
     ]
    }
   ],
   "source": [
    "cv.fit(X_train,y_train)\n",
    "y_pred=cv.predict(X_test)\n",
    "print(classification_report(y_test,y_pred,target_names=Y.columns.values))\n",
    "print(\"Best Params:\",cv.best_params_)"
   ]
  },
  {
   "cell_type": "markdown",
   "metadata": {},
   "source": [
    "### 8. Try improving your model further. Here are a few ideas:\n",
    "* try other machine learning algorithms\n",
    "* add other features besides the TF-IDF"
   ]
  },
  {
   "cell_type": "code",
   "execution_count": 47,
   "metadata": {},
   "outputs": [],
   "source": [
    "class TextLengthExtractor(BaseEstimator, TransformerMixin):\n",
    "    def fit(self, X, y=None):\n",
    "        return self\n",
    "\n",
    "    def transform(self, X):\n",
    "        return [[len(text)] for text in X]"
   ]
  },
  {
   "cell_type": "code",
   "execution_count": 48,
   "metadata": {},
   "outputs": [],
   "source": [
    "pipeline1 = Pipeline([\n",
    "        ('features', FeatureUnion([\n",
    "            \n",
    "            ('text_pipeline', Pipeline([\n",
    "                ('vect', CountVectorizer(tokenizer=tokenize)),\n",
    "                ('tfidf', TfidfTransformer())\n",
    "            ])),\n",
    "\n",
    "            ('text_ext', TextLengthExtractor())\n",
    "        ])),\n",
    "    \n",
    "        ('clf', MultiOutputClassifier(KNeighborsClassifier()))\n",
    "    ])"
   ]
  },
  {
   "cell_type": "code",
   "execution_count": 49,
   "metadata": {},
   "outputs": [],
   "source": [
    "parameters1 = {\n",
    "    'clf__estimator__n_neighbors':[3,5],\n",
    "    'clf__estimator__leaf_size':[5,10]\n",
    "    #'clf__estimator__min_samples_split':[2,5,10],\n",
    "    }\n",
    "\n",
    "cv1 = GridSearchCV(pipeline1,param_grid=parameters1,verbose=3)"
   ]
  },
  {
   "cell_type": "code",
   "execution_count": null,
   "metadata": {},
   "outputs": [
    {
     "name": "stdout",
     "output_type": "stream",
     "text": [
      "Fitting 3 folds for each of 4 candidates, totalling 12 fits\n",
      "[CV] clf__estimator__leaf_size=5, clf__estimator__n_neighbors=3 ......\n",
      "[CV]  clf__estimator__leaf_size=5, clf__estimator__n_neighbors=3, score=0.1484589563625267, total= 3.3min\n",
      "[CV] clf__estimator__leaf_size=5, clf__estimator__n_neighbors=3 ......\n"
     ]
    },
    {
     "name": "stderr",
     "output_type": "stream",
     "text": [
      "[Parallel(n_jobs=1)]: Done   1 out of   1 | elapsed:  8.2min remaining:    0.0s\n"
     ]
    },
    {
     "name": "stdout",
     "output_type": "stream",
     "text": [
      "[CV]  clf__estimator__leaf_size=5, clf__estimator__n_neighbors=3, score=0.1464754348489472, total= 3.4min\n",
      "[CV] clf__estimator__leaf_size=5, clf__estimator__n_neighbors=3 ......\n"
     ]
    },
    {
     "name": "stderr",
     "output_type": "stream",
     "text": [
      "[Parallel(n_jobs=1)]: Done   2 out of   2 | elapsed: 16.5min remaining:    0.0s\n"
     ]
    }
   ],
   "source": [
    "cv1.fit(X_train,y_train)\n",
    "y_pred=cv1.predict(X_test)\n",
    "print(classification_report(y_test,y_pred,target_names=Y.columns.values))\n",
    "print(\"Best Params:\",cv1.best_params_)"
   ]
  },
  {
   "cell_type": "markdown",
   "metadata": {},
   "source": [
    "### 9. Export your model as a pickle file"
   ]
  },
  {
   "cell_type": "code",
   "execution_count": null,
   "metadata": {},
   "outputs": [],
   "source": [
    "joblib.dump(pipeline,'model.pkl')"
   ]
  },
  {
   "cell_type": "markdown",
   "metadata": {},
   "source": [
    "### 10. Use this notebook to complete `train.py`\n",
    "Use the template file attached in the Resources folder to write a script that runs the steps above to create a database and export a model based on a new dataset specified by the user."
   ]
  }
 ],
 "metadata": {
  "kernelspec": {
   "display_name": "Python 3",
   "language": "python",
   "name": "python3"
  },
  "language_info": {
   "codemirror_mode": {
    "name": "ipython",
    "version": 3
   },
   "file_extension": ".py",
   "mimetype": "text/x-python",
   "name": "python",
   "nbconvert_exporter": "python",
   "pygments_lexer": "ipython3",
   "version": "3.6.3"
  }
 },
 "nbformat": 4,
 "nbformat_minor": 2
}
